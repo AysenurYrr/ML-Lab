{
  "cells": [
    {
      "cell_type": "markdown",
      "metadata": {
        "id": "OlBhzzmrWGSk"
      },
      "source": [
        "# EDA: Univariate and multivariate **analysis**"
      ]
    },
    {
      "cell_type": "code",
      "execution_count": null,
      "metadata": {
        "colab": {
          "base_uri": "https://localhost:8080/"
        },
        "id": "ygaRN97NQ2yy",
        "outputId": "11ab75ee-8d56-4b58-a37e-0b442fb29f71"
      },
      "outputs": [
        {
          "name": "stdout",
          "output_type": "stream",
          "text": [
            "             MinTemp        MaxTemp       Rainfall   Evaporation  \\\n",
            "count  143975.000000  144199.000000  142199.000000  82670.000000   \n",
            "mean       12.194034      23.221348       2.360918      5.468232   \n",
            "std         6.398495       7.119049       8.478060      4.193704   \n",
            "min        -8.500000      -4.800000       0.000000      0.000000   \n",
            "25%         7.600000      17.900000       0.000000      2.600000   \n",
            "50%        12.000000      22.600000       0.000000      4.800000   \n",
            "75%        16.900000      28.200000       0.800000      7.400000   \n",
            "max        33.900000      48.100000     371.000000    145.000000   \n",
            "\n",
            "           Sunshine  WindGustSpeed   WindSpeed9am   WindSpeed3pm  \\\n",
            "count  75625.000000  135197.000000  143693.000000  142398.000000   \n",
            "mean       7.611178      40.035230      14.043426      18.662657   \n",
            "std        3.785483      13.607062       8.915375       8.809800   \n",
            "min        0.000000       6.000000       0.000000       0.000000   \n",
            "25%        4.800000      31.000000       7.000000      13.000000   \n",
            "50%        8.400000      39.000000      13.000000      19.000000   \n",
            "75%       10.600000      48.000000      19.000000      24.000000   \n",
            "max       14.500000     135.000000     130.000000      87.000000   \n",
            "\n",
            "         Humidity9am    Humidity3pm   Pressure9am    Pressure3pm  \\\n",
            "count  142806.000000  140953.000000  130395.00000  130432.000000   \n",
            "mean       68.880831      51.539116    1017.64994    1015.255889   \n",
            "std        19.029164      20.795902       7.10653       7.037414   \n",
            "min         0.000000       0.000000     980.50000     977.100000   \n",
            "25%        57.000000      37.000000    1012.90000    1010.400000   \n",
            "50%        70.000000      52.000000    1017.60000    1015.200000   \n",
            "75%        83.000000      66.000000    1022.40000    1020.000000   \n",
            "max       100.000000     100.000000    1041.00000    1039.600000   \n",
            "\n",
            "           Cloud9am      Cloud3pm        Temp9am       Temp3pm  \n",
            "count  89572.000000  86102.000000  143693.000000  141851.00000  \n",
            "mean       4.447461      4.509930      16.990631      21.68339  \n",
            "std        2.887159      2.720357       6.488753       6.93665  \n",
            "min        0.000000      0.000000      -7.200000      -5.40000  \n",
            "25%        1.000000      2.000000      12.300000      16.60000  \n",
            "50%        5.000000      5.000000      16.700000      21.10000  \n",
            "75%        7.000000      7.000000      21.600000      26.40000  \n",
            "max        9.000000      9.000000      40.200000      46.70000  \n"
          ]
        }
      ],
      "source": [
        "import pandas as pd\n",
        "import matplotlib.pyplot as plt\n",
        "import seaborn as sns\n",
        "\n",
        "\n",
        "df = pd.read_csv('weatherAUS.csv')\n",
        "\n",
        "# Summary statistics for numerical features\n",
        "print(df.describe())\n",
        "\n",
        "# Distribution plots for numerical features\n",
        "for col in ['MinTemp', 'MaxTemp', 'Rainfall', 'Evaporation', 'Sunshine', 'WindGustSpeed', 'WindSpeed9am', 'WindSpeed3pm', 'Humidity9am', 'Humidity3pm', 'Pressure9am', 'Pressure3pm', 'Cloud9am', 'Cloud3pm', 'Temp9am', 'Temp3pm']:\n",
        "    plt.figure()\n",
        "    sns.histplot(df[col], kde=True)\n",
        "    plt.title(f'Distribution of {col}')\n",
        "    plt.show()\n",
        "\n",
        "# Count plots for categorical features\n",
        "for col in ['Location', 'WindGustDir', 'WindDir9am', 'WindDir3pm', 'RainToday', 'RainTomorrow']:\n",
        "    plt.figure()\n",
        "    sns.countplot(x=col, data=df)\n",
        "    plt.title(f'Count Plot of {col}')\n",
        "    plt.xticks(rotation=90)\n",
        "    plt.show()\n"
      ]
    },
    {
      "cell_type": "code",
      "execution_count": null,
      "metadata": {
        "id": "vqz9oifnWXFv"
      },
      "outputs": [],
      "source": [
        "# Correlation matrix for numerical features\n",
        "plt.figure(figsize=(12, 10))\n",
        "sns.heatmap(df.corr(), annot=True, cmap='coolwarm')\n",
        "plt.title('Correlation Matrix')\n",
        "plt.show()\n",
        "\n",
        "# Pairplot for a few selected features\n",
        "sns.pairplot(df[['MinTemp', 'MaxTemp', 'Rainfall', 'Sunshine', 'Humidity9am', 'Humidity3pm', 'RainTomorrow']], hue='RainTomorrow')\n",
        "plt.show()\n"
      ]
    },
    {
      "cell_type": "markdown",
      "metadata": {
        "id": "wM4Z-_hlWeLk"
      },
      "source": [
        "# Data Preparation"
      ]
    },
    {
      "cell_type": "code",
      "execution_count": null,
      "metadata": {
        "colab": {
          "base_uri": "https://localhost:8080/"
        },
        "id": "YUSHk36BWm-P",
        "outputId": "3017f529-9f9b-47a0-934b-faf4560c25b0"
      },
      "outputs": [
        {
          "name": "stdout",
          "output_type": "stream",
          "text": [
            "Date                 0\n",
            "Location             0\n",
            "MinTemp           1485\n",
            "MaxTemp           1261\n",
            "Rainfall          3261\n",
            "Evaporation      62790\n",
            "Sunshine         69835\n",
            "WindGustDir      10326\n",
            "WindGustSpeed    10263\n",
            "WindDir9am       10566\n",
            "WindDir3pm        4228\n",
            "WindSpeed9am      1767\n",
            "WindSpeed3pm      3062\n",
            "Humidity9am       2654\n",
            "Humidity3pm       4507\n",
            "Pressure9am      15065\n",
            "Pressure3pm      15028\n",
            "Cloud9am         55888\n",
            "Cloud3pm         59358\n",
            "Temp9am           1767\n",
            "Temp3pm           3609\n",
            "RainToday         3261\n",
            "RainTomorrow      3267\n",
            "dtype: int64\n"
          ]
        }
      ],
      "source": [
        "# Check for missing values\n",
        "print(df.isnull().sum())\n",
        "df.fillna(0, inplace=True)"
      ]
    },
    {
      "cell_type": "code",
      "execution_count": null,
      "metadata": {
        "id": "EUrHXt0yWpBU"
      },
      "outputs": [],
      "source": [
        "from sklearn.preprocessing import MinMaxScaler\n",
        "\n",
        "# Normalizing numerical columns\n",
        "scaler = MinMaxScaler()\n",
        "num_cols = ['MinTemp', 'MaxTemp', 'Rainfall', 'Evaporation', 'Sunshine', 'WindGustSpeed', 'WindSpeed9am', 'WindSpeed3pm', 'Humidity9am', 'Humidity3pm', 'Pressure9am', 'Pressure3pm', 'Cloud9am', 'Cloud3pm', 'Temp9am', 'Temp3pm']\n",
        "df[num_cols] = scaler.fit_transform(df[num_cols])"
      ]
    },
    {
      "cell_type": "code",
      "execution_count": null,
      "metadata": {
        "id": "IxRM95_gWsLT"
      },
      "outputs": [],
      "source": [
        "# One-hot encoding for categorical columns\n",
        "df = pd.get_dummies(df, columns=['Location', 'WindGustDir', 'WindDir9am', 'WindDir3pm', 'RainToday'])"
      ]
    },
    {
      "cell_type": "code",
      "execution_count": null,
      "metadata": {
        "id": "7n3onn8zaPsP"
      },
      "outputs": [],
      "source": [
        "df['RainTomorrow'] = df['RainTomorrow'].replace({'No': 0, 'Yes': 1})\n",
        "df['RainTomorrow'] = pd.to_numeric(df['RainTomorrow'])"
      ]
    },
    {
      "cell_type": "markdown",
      "metadata": {
        "id": "2JXt6YeNWwsm"
      },
      "source": [
        "# Modeling"
      ]
    },
    {
      "cell_type": "markdown",
      "metadata": {
        "id": "cNNh4h93XSFH"
      },
      "source": [
        "## Logistic"
      ]
    },
    {
      "cell_type": "code",
      "execution_count": null,
      "metadata": {
        "id": "ODwJrnKbWz-8"
      },
      "outputs": [],
      "source": [
        "from sklearn.linear_model import LogisticRegression\n",
        "from sklearn.model_selection import train_test_split, GridSearchCV\n",
        "from sklearn.metrics import classification_report, roc_auc_score, roc_curve\n",
        "import matplotlib.pyplot as plt\n",
        "\n",
        "# Splitting data\n",
        "X = df.drop(['RainTomorrow', 'Date'], axis=1)\n",
        "y = df['RainTomorrow']\n",
        "X_train, X_test, y_train, y_test = train_test_split(X, y, test_size=0.2, random_state=42)\n",
        "\n",
        "# Training Logistic Regression\n",
        "log_reg = LogisticRegression()\n",
        "log_reg.fit(X_train, y_train)\n",
        "\n",
        "# Evaluation before tuning\n",
        "y_pred = log_reg.predict(X_test)\n",
        "print(\"Classification report before tuning:\")\n",
        "print(classification_report(y_test, y_pred))\n",
        "\n",
        "# Hyperparameters Tuning\n",
        "param_grid = {'C': [0.01, 0.1, 1, 10, 100]}\n",
        "grid_search = GridSearchCV(LogisticRegression(), param_grid, cv=5)\n",
        "grid_search.fit(X_train, y_train)\n",
        "best_lr = grid_search.best_estimator_\n",
        "print(f'Best parameters: {grid_search.best_params_}')\n",
        "\n",
        "# Evaluation after tuning\n",
        "y_pred_tuned = best_lr.predict(X_test)\n",
        "print(\"Classification report after tuning:\")\n",
        "print(classification_report(y_test, y_pred_tuned))\n",
        "\n",
        "# Compute ROC AUC score for the tuned model\n",
        "y_pred_prob_tuned = best_lr.predict_proba(X_test)[:, 1]\n",
        "roc_auc_tuned = roc_auc_score(y_test, y_pred_prob_tuned)\n",
        "print(f\"ROC AUC Score after tuning: {roc_auc_tuned}\")\n",
        "\n",
        "# Plot ROC Curve for the tuned model\n",
        "fpr_tuned, tpr_tuned, _ = roc_curve(y_test, y_pred_prob_tuned)\n",
        "plt.figure()\n",
        "plt.plot(fpr_tuned, tpr_tuned, label='ROC curve (area = %0.2f)' % roc_auc_tuned)\n",
        "plt.plot([0, 1], [0, 1], 'k--')  # random predictions curve\n",
        "plt.xlim([0.0, 1.0])\n",
        "plt.ylim([0.0, 1.05])\n",
        "plt.xlabel('False Positive Rate')\n",
        "plt.ylabel('True Positive Rate')\n",
        "plt.title('Receiver Operating Characteristic after Tuning')\n",
        "plt.legend(loc=\"lower right\")\n",
        "plt.show()\n",
        "\n",
        "# Coefficients Interpretation\n",
        "importance = best_lr.coef_[0]\n",
        "plt.bar(range(len(importance)), importance)\n",
        "plt.show()\n"
      ]
    },
    {
      "cell_type": "code",
      "execution_count": null,
      "metadata": {
        "id": "xDJSuxCfbDbf"
      },
      "outputs": [],
      "source": []
    },
    {
      "cell_type": "markdown",
      "metadata": {
        "id": "UvpWurs2XUdk"
      },
      "source": [
        "## KNN"
      ]
    },
    {
      "cell_type": "code",
      "execution_count": null,
      "metadata": {
        "colab": {
          "base_uri": "https://localhost:8080/",
          "height": 854
        },
        "id": "SLTpuM2UXVY0",
        "outputId": "2340fc6c-a9ac-4fbf-fe2d-ef0607721349"
      },
      "outputs": [
        {
          "name": "stdout",
          "output_type": "stream",
          "text": [
            "Classification report before tuning:\n",
            "              precision    recall  f1-score   support\n",
            "\n",
            "           0       0.84      0.93      0.88     22672\n",
            "           1       0.60      0.38      0.47      6420\n",
            "\n",
            "    accuracy                           0.81     29092\n",
            "   macro avg       0.72      0.66      0.68     29092\n",
            "weighted avg       0.79      0.81      0.79     29092\n",
            "\n",
            "Best parameters: {'n_neighbors': 2}\n",
            "Classification report after tuning:\n",
            "              precision    recall  f1-score   support\n",
            "\n",
            "           0       0.82      0.96      0.88     22672\n",
            "           1       0.62      0.24      0.34      6420\n",
            "\n",
            "    accuracy                           0.80     29092\n",
            "   macro avg       0.72      0.60      0.61     29092\n",
            "weighted avg       0.77      0.80      0.76     29092\n",
            "\n",
            "ROC AUC Score after tuning: 0.7045551781933663\n"
          ]
        },
        {
          "data": {
            "image/png": "[encoded data removed]",
            "text/plain": [
              "<Figure size 640x480 with 1 Axes>"
            ]
          },
          "metadata": {},
          "output_type": "display_data"
        }
      ],
      "source": [
        "from sklearn.neighbors import KNeighborsClassifier\n",
        "from sklearn.metrics import classification_report, roc_auc_score, roc_curve\n",
        "import matplotlib.pyplot as plt\n",
        "\n",
        "# Assuming X_train, X_test, y_train, y_test are already defined\n",
        "\n",
        "# Training KNN\n",
        "knn = KNeighborsClassifier(n_neighbors=5)\n",
        "knn.fit(X_train, y_train)\n",
        "\n",
        "# Evaluation before tuning\n",
        "y_pred_knn = knn.predict(X_test)\n",
        "print(\"Classification report before tuning:\")\n",
        "print(classification_report(y_test, y_pred_knn))\n",
        "\n",
        "# Hyperparameters Tuning\n",
        "param_grid_knn = {'n_neighbors': range(2, 10)}\n",
        "grid_search_knn = GridSearchCV(KNeighborsClassifier(), param_grid_knn, cv=5)\n",
        "grid_search_knn.fit(X_train, y_train)\n",
        "best_knn = grid_search_knn.best_estimator_\n",
        "print(f'Best parameters: {grid_search_knn.best_params_}')\n",
        "\n",
        "# Evaluation after tuning\n",
        "y_pred_knn_tuned = best_knn.predict(X_test)\n",
        "print(\"Classification report after tuning:\")\n",
        "print(classification_report(y_test, y_pred_knn_tuned))\n",
        "\n",
        "# Compute ROC AUC score for the tuned model\n",
        "y_pred_prob_knn_tuned = best_knn.predict_proba(X_test)[:, 1]\n",
        "roc_auc_knn_tuned = roc_auc_score(y_test, y_pred_prob_knn_tuned)\n",
        "print(f\"ROC AUC Score after tuning: {roc_auc_knn_tuned}\")\n",
        "\n",
        "# Plot ROC Curve for the tuned model\n",
        "fpr_knn_tuned, tpr_knn_tuned, _ = roc_curve(y_test, y_pred_prob_knn_tuned)\n",
        "plt.figure()\n",
        "plt.plot(fpr_knn_tuned, tpr_knn_tuned, label='ROC curve (area = %0.2f)' % roc_auc_knn_tuned)\n",
        "plt.plot([0, 1], [0, 1], 'k--')  # random predictions curve\n",
        "plt.xlim([0.0, 1.0])\n",
        "plt.ylim([0.0, 1.05])\n",
        "plt.xlabel('False Positive Rate')\n",
        "plt.ylabel('True Positive Rate')\n",
        "plt.title('Receiver Operating Characteristic after Tuning')\n",
        "plt.legend(loc=\"lower right\")\n",
        "plt.show()\n"
      ]
    },
    {
      "cell_type": "markdown",
      "metadata": {
        "id": "69OSEyBdXm2l"
      },
      "source": [
        "## SVM"
      ]
    },
    {
      "cell_type": "code",
      "execution_count": null,
      "metadata": {
        "id": "dE2iIagpXoJV"
      },
      "outputs": [],
      "source": [
        "from sklearn.svm import SVC\n",
        "from sklearn.metrics import classification_report, roc_auc_score, roc_curve\n",
        "import matplotlib.pyplot as plt\n",
        "\n",
        "# Assuming X_train, X_test, y_train, y_test are already defined\n",
        "\n",
        "# Training SVM\n",
        "svm = SVC(probability=True)\n",
        "svm.fit(X_train, y_train)\n",
        "\n",
        "# Evaluation before tuning\n",
        "y_pred_svm = svm.predict(X_test)\n",
        "print(\"Classification report before tuning:\")\n",
        "print(classification_report(y_test, y_pred_svm))\n",
        "\n",
        "# Hyperparameters Tuning\n",
        "param_grid_svm = {'C': [0.1, 1, 10], 'gamma': [0.01, 0.1, 1]}\n",
        "grid_search_svm = GridSearchCV(SVC(probability=True), param_grid_svm, cv=2)\n",
        "grid_search_svm.fit(X_train, y_train)\n",
        "best_svm = grid_search_svm.best_estimator_\n",
        "print(f'Best parameters: {grid_search_svm.best_params_}')\n",
        "\n",
        "# Evaluation after tuning\n",
        "y_pred_svm_tuned = best_svm.predict(X_test)\n",
        "print(\"Classification report after tuning:\")\n",
        "print(classification_report(y_test, y_pred_svm_tuned))\n",
        "\n",
        "# Compute ROC AUC score for the tuned model\n",
        "y_pred_prob_svm_tuned = best_svm.predict_proba(X_test)[:, 1]\n",
        "roc_auc_svm_tuned = roc_auc_score(y_test, y_pred_prob_svm_tuned)\n",
        "print(f\"ROC AUC Score after tuning: {roc_auc_svm_tuned}\")\n",
        "\n",
        "# Plot ROC Curve for the tuned model\n",
        "fpr_svm_tuned, tpr_svm_tuned, _ = roc_curve(y_test, y_pred_prob_svm_tuned)\n",
        "plt.figure()\n",
        "plt.plot(fpr_svm_tuned, tpr_svm_tuned, label='ROC curve (area = %0.2f)' % roc_auc_svm_tuned)\n",
        "plt.plot([0, 1], [0, 1], 'k--')  # random predictions curve\n",
        "plt.xlim([0.0, 1.0])\n",
        "plt.ylim([0.0, 1.05])\n",
        "plt.xlabel('False Positive Rate')\n",
        "plt.ylabel('True Positive Rate')\n",
        "plt.title('Receiver Operating Characteristic after Tuning')\n",
        "plt.legend(loc=\"lower right\")\n",
        "plt.show()"
      ]
    },
    {
      "cell_type": "markdown",
      "metadata": {
        "id": "asrMvFB3YJvH"
      },
      "source": [
        "## Handling Imbalanced Data"
      ]
    },
    {
      "cell_type": "code",
      "execution_count": null,
      "metadata": {
        "id": "hU-oqIQIYKoQ"
      },
      "outputs": [],
      "source": [
        "from imblearn.over_sampling import SMOTE\n",
        "from imblearn.under_sampling import RandomUnderSampler\n",
        "\n",
        "# Oversampling\n",
        "smote = SMOTE()\n",
        "X_train_smote, y_train_smote = smote.fit_resample(X_train, y_train)\n",
        "\n",
        "# Undersampling\n",
        "rus = RandomUnderSampler()\n",
        "X_train_rus, y_train_rus = rus.fit_resample(X_train, y_train)\n",
        "\n",
        "# Train and evaluate models on the balanced dataset"
      ]
    },
    {
      "cell_type": "markdown",
      "metadata": {
        "id": "movJGUYsYbgR"
      },
      "source": [
        "### Logistic"
      ]
    },
    {
      "cell_type": "code",
      "execution_count": null,
      "metadata": {
        "colab": {
          "base_uri": "https://localhost:8080/"
        },
        "id": "HBxnWG9PYc_F",
        "outputId": "c036d22c-a66c-4b17-f9ec-8a43577a3427"
      },
      "outputs": [
        {
          "name": "stdout",
          "output_type": "stream",
          "text": [
            "              precision    recall  f1-score   support\n",
            "\n",
            "           0       0.89      0.90      0.89     22672\n",
            "           1       0.62      0.60      0.61      6420\n",
            "\n",
            "    accuracy                           0.83     29092\n",
            "   macro avg       0.75      0.75      0.75     29092\n",
            "weighted avg       0.83      0.83      0.83     29092\n",
            "\n"
          ]
        },
        {
          "name": "stderr",
          "output_type": "stream",
          "text": [
            "/usr/local/lib/python3.10/dist-packages/sklearn/linear_model/_logistic.py:458: ConvergenceWarning: lbfgs failed to converge (status=1):\n",
            "STOP: TOTAL NO. of ITERATIONS REACHED LIMIT.\n",
            "\n",
            "Increase the number of iterations (max_iter) or scale the data as shown in:\n",
            "    https://scikit-learn.org/stable/modules/preprocessing.html\n",
            "Please also refer to the documentation for alternative solver options:\n",
            "    https://scikit-learn.org/stable/modules/linear_model.html#logistic-regression\n",
            "  n_iter_i = _check_optimize_result(\n"
          ]
        }
      ],
      "source": [
        "from sklearn.linear_model import LogisticRegression\n",
        "from sklearn.metrics import classification_report\n",
        "\n",
        "# Training Logistic Regression on the balanced dataset\n",
        "log_reg_smote = LogisticRegression()\n",
        "log_reg_smote.fit(X_train_smote, y_train_smote)\n",
        "\n",
        "# Evaluation\n",
        "y_pred_log_reg_smote = log_reg_smote.predict(X_test)\n",
        "print(classification_report(y_test, y_pred_log_reg_smote))"
      ]
    },
    {
      "cell_type": "markdown",
      "metadata": {
        "id": "kk0s4ftMYdt9"
      },
      "source": [
        "### KNN"
      ]
    },
    {
      "cell_type": "code",
      "execution_count": null,
      "metadata": {
        "colab": {
          "base_uri": "https://localhost:8080/"
        },
        "id": "cKOz90pIYenF",
        "outputId": "3188ef31-4d7e-4ce6-a7ea-7db231cb75c9"
      },
      "outputs": [
        {
          "name": "stdout",
          "output_type": "stream",
          "text": [
            "              precision    recall  f1-score   support\n",
            "\n",
            "           0       0.89      0.62      0.73     22672\n",
            "           1       0.35      0.74      0.48      6420\n",
            "\n",
            "    accuracy                           0.64     29092\n",
            "   macro avg       0.62      0.68      0.60     29092\n",
            "weighted avg       0.77      0.64      0.67     29092\n",
            "\n"
          ]
        }
      ],
      "source": [
        "from sklearn.neighbors import KNeighborsClassifier\n",
        "\n",
        "# Training KNN on the balanced dataset\n",
        "knn_smote = KNeighborsClassifier()\n",
        "knn_smote.fit(X_train_smote, y_train_smote)\n",
        "\n",
        "# Evaluation\n",
        "y_pred_knn_smote = knn_smote.predict(X_test)\n",
        "print(classification_report(y_test, y_pred_knn_smote))"
      ]
    },
    {
      "cell_type": "markdown",
      "metadata": {
        "id": "54cBzJNIYghA"
      },
      "source": [
        "### SVM"
      ]
    },
    {
      "cell_type": "code",
      "execution_count": null,
      "metadata": {
        "colab": {
          "background_save": true
        },
        "id": "3IKRMC3qYjk5",
        "outputId": "58bdfab4-13ff-4af4-ad5c-42a8d497d688"
      },
      "outputs": [
        {
          "name": "stdout",
          "output_type": "stream",
          "text": [
            "              precision    recall  f1-score   support\n",
            "\n",
            "           0       0.89      0.91      0.90     22672\n",
            "           1       0.66      0.58      0.62      6420\n",
            "\n",
            "    accuracy                           0.84     29092\n",
            "   macro avg       0.77      0.75      0.76     29092\n",
            "weighted avg       0.84      0.84      0.84     29092\n",
            "\n"
          ]
        }
      ],
      "source": [
        "from sklearn.svm import SVC\n",
        "\n",
        "# Training SVM on the balanced dataset\n",
        "svm_smote = SVC()\n",
        "svm_smote.fit(X_train_smote, y_train_smote)\n",
        "\n",
        "# Evaluation\n",
        "y_pred_svm_smote = svm_smote.predict(X_test)\n",
        "print(classification_report(y_test, y_pred_svm_smote))\n"
      ]
    }
  ],
  "metadata": {
    "colab": {
      "provenance": []
    },
    "kernelspec": {
      "display_name": "Python 3",
      "name": "python3"
    },
    "language_info": {
      "name": "python"
    }
  },
  "nbformat": 4,
  "nbformat_minor": 0
}